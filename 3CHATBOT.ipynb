{
 "cells": [
  {
   "cell_type": "code",
   "execution_count": null,
   "id": "4f3d8140-cdf3-4159-988d-29376f3610b7",
   "metadata": {},
   "outputs": [
    {
     "name": "stdout",
     "output_type": "stream",
     "text": [
      "chatbot:Hi! type 'Bye' to end the conversation.\n"
     ]
    },
    {
     "name": "stdin",
     "output_type": "stream",
     "text": [
      "you: are you human?\n"
     ]
    },
    {
     "name": "stdout",
     "output_type": "stream",
     "text": [
      "chatbot:No! I'm a chat bot for assist you\n"
     ]
    }
   ],
   "source": [
    "def CHATBOT():\n",
    "    responses = {\n",
    "        \"hi\":\"Hi,Hello\",\n",
    "        \"hello\":\"Hi, i'm there!\",\n",
    "        \"how are you\":\"I'm good,Thanks for asking!\",\n",
    "        \"are you human?\":\"No! I'm a chat bot for assist you\",\n",
    "        \"bye\":\"Good Bye,Have a nice day\",\n",
    "\n",
    "    }\n",
    "    print(\"chatbot:Hi! type 'Bye' to end the conversation.\")\n",
    "\n",
    "    while True:\n",
    "        user_input = input(\"you:\").lower()\n",
    "\n",
    "\n",
    "        if user_input in responses:\n",
    "            print(f\"chatbot:{responses[user_input]}\")\n",
    "\n",
    "        else:\n",
    "            print(\"chatbot:Sorry, I don't understand that.\")\n",
    "\n",
    "        if user_input==\"bye\":\n",
    "            break\n",
    "\n",
    "CHATBOT()\n",
    "\n",
    "        \n",
    "        "
   ]
  },
  {
   "cell_type": "code",
   "execution_count": null,
   "id": "1719e49f-f179-4467-90a2-39d5236f4bb2",
   "metadata": {},
   "outputs": [],
   "source": []
  },
  {
   "cell_type": "code",
   "execution_count": null,
   "id": "67c0c9e1-ebd6-4a24-9eef-fb503005bd7c",
   "metadata": {},
   "outputs": [],
   "source": []
  }
 ],
 "metadata": {
  "kernelspec": {
   "display_name": "Python 3 (ipykernel)",
   "language": "python",
   "name": "python3"
  },
  "language_info": {
   "codemirror_mode": {
    "name": "ipython",
    "version": 3
   },
   "file_extension": ".py",
   "mimetype": "text/x-python",
   "name": "python",
   "nbconvert_exporter": "python",
   "pygments_lexer": "ipython3",
   "version": "3.12.7"
  }
 },
 "nbformat": 4,
 "nbformat_minor": 5
}
