{
 "cells": [
  {
   "cell_type": "code",
   "execution_count": null,
   "id": "2b12e7e9-f338-4589-9044-f8e833bcd72e",
   "metadata": {},
   "outputs": [],
   "source": [
    "from sklearn.metrics import mean_absolute_error\n",
    "\n",
    "mean_squared_error,r2_score\n"
   ]
  },
  {
   "cell_type": "raw",
   "id": "11dce367-2431-4301-b226-332d6f6d87b9",
   "metadata": {},
   "source": [
    "y_pred_model.predict(X_test)\n",
    "mae=mean_absolute_error(y_test,y_pred)\n",
    "mse=mean_squared_error(y_test,y_pred)\n",
    "r2=r"
   ]
  }
 ],
 "metadata": {
  "kernelspec": {
   "display_name": "Python 3 (ipykernel)",
   "language": "python",
   "name": "python3"
  },
  "language_info": {
   "codemirror_mode": {
    "name": "ipython",
    "version": 3
   },
   "file_extension": ".py",
   "mimetype": "text/x-python",
   "name": "python",
   "nbconvert_exporter": "python",
   "pygments_lexer": "ipython3",
   "version": "3.12.7"
  }
 },
 "nbformat": 4,
 "nbformat_minor": 5
}
