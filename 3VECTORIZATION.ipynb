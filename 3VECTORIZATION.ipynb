{
 "cells": [
  {
   "cell_type": "code",
   "execution_count": 1,
   "id": "f4be7fcc-c716-41cd-ab31-f2e9a43fc15b",
   "metadata": {},
   "outputs": [],
   "source": [
    "from sklearn.feature_extraction.text import TfidfVectorizer"
   ]
  },
  {
   "cell_type": "code",
   "execution_count": 3,
   "id": "ba476e3d-4cd4-4bc8-b107-a7b488fe77bc",
   "metadata": {},
   "outputs": [],
   "source": [
    "# Sample documents (text data)\n",
    "documents = [\n",
    "    \"This is a sample sentence.\",\n",
    "    \"This is another example sentence.\",\n",
    "    \"Text vectorization is an important step in NLP.\"\n",
    "]\n"
   ]
  },
  {
   "cell_type": "code",
   "execution_count": 5,
   "id": "007a4d66-1eb4-4372-b8a3-3448afe7d4bc",
   "metadata": {},
   "outputs": [],
   "source": [
    "# Initialize the TF-IDF Vectorizer\n",
    "tfidf_vectorizer = TfidfVectorizer()\n"
   ]
  },
  {
   "cell_type": "code",
   "execution_count": 7,
   "id": "06e09da4-6793-40f5-93a4-228bbdc4e3eb",
   "metadata": {},
   "outputs": [],
   "source": [
    "# Fit and transform the documents\n",
    "tfidf_matrix = tfidf_vectorizer.fit_transform(documents)"
   ]
  },
  {
   "cell_type": "code",
   "execution_count": 9,
   "id": "95a19cd5-b81e-4733-b919-2fa151422860",
   "metadata": {},
   "outputs": [
    {
     "name": "stdout",
     "output_type": "stream",
     "text": [
      "TF-IDF Matrix:\n",
      "[[0.         0.         0.         0.         0.         0.37311881\n",
      "  0.         0.63174505 0.4804584  0.         0.         0.4804584\n",
      "  0.        ]\n",
      " [0.         0.53409337 0.53409337 0.         0.         0.31544415\n",
      "  0.         0.         0.40619178 0.         0.         0.40619178\n",
      "  0.        ]\n",
      " [0.36888498 0.         0.         0.36888498 0.36888498 0.21786941\n",
      "  0.36888498 0.         0.         0.36888498 0.36888498 0.\n",
      "  0.36888498]]\n"
     ]
    }
   ],
   "source": [
    "# Convert the TF-IDF matrix to a dense format and print it\n",
    "tfidf_dense = tfidf_matrix.toarray()\n",
    "print(\"TF-IDF Matrix:\")\n",
    "print(tfidf_dense)\n"
   ]
  },
  {
   "cell_type": "code",
   "execution_count": 1,
   "id": "1506094b-6b20-4351-91bf-398be3222b8b",
   "metadata": {},
   "outputs": [],
   "source": [
    "#------------------------EXAMPLE-----------------------------------------------------------------------------------------------------"
   ]
  },
  {
   "cell_type": "code",
   "execution_count": 9,
   "id": "bdb318cd-235f-41ed-8fb5-49b1eeb6a36e",
   "metadata": {},
   "outputs": [
    {
     "name": "stdout",
     "output_type": "stream",
     "text": [
      "['codeing' 'love' 'nlp']\n",
      "[[0 1 1]\n",
      " [1 1 0]]\n"
     ]
    }
   ],
   "source": [
    "from sklearn.feature_extraction.text import CountVectorizer\n",
    "\n",
    "documents = [\"I love NLP\",\"I love codeing\"]\n",
    "vectorizer =  CountVectorizer()\n",
    "vectorized_data = vectorizer.fit_transform(documents)\n",
    "\n",
    "\n",
    "print(vectorizer.get_feature_names_out())\n",
    "print(vectorized_data.toarray())"
   ]
  },
  {
   "cell_type": "code",
   "execution_count": 13,
   "id": "592ac936-ce02-41f3-bc9b-79507f01370c",
   "metadata": {},
   "outputs": [],
   "source": [
    "#---------------------------------------EXAMPLE----------------------------------------------"
   ]
  },
  {
   "cell_type": "code",
   "execution_count": 19,
   "id": "019a0e71-0de6-463f-af00-4ae251c3bef5",
   "metadata": {},
   "outputs": [],
   "source": [
    "from sklearn.feature_extraction.text import CountVectorizer\n"
   ]
  },
  {
   "cell_type": "code",
   "execution_count": 37,
   "id": "ee57256b-4b15-44cc-be60-2312a60ffe2a",
   "metadata": {},
   "outputs": [],
   "source": [
    "documents =[\n",
    "    \"I love programming in python\",\n",
    "    \"python programming is fun\",\n",
    "    \"I love codeing\"\n",
    "]"
   ]
  },
  {
   "cell_type": "code",
   "execution_count": 39,
   "id": "6fb28183-3d8a-4535-9e57-7d128dce89bb",
   "metadata": {},
   "outputs": [],
   "source": [
    "vectorizer = CountVectorizer()"
   ]
  },
  {
   "cell_type": "code",
   "execution_count": 41,
   "id": "e986c413-2bf3-4a6d-afa3-ff85bfd58a3a",
   "metadata": {},
   "outputs": [],
   "source": [
    "vectorized_data = vectorizer.fit_transform(documents)\n"
   ]
  },
  {
   "cell_type": "code",
   "execution_count": 43,
   "id": "d528390c-5d94-433c-b427-94d3406a3e3d",
   "metadata": {},
   "outputs": [
    {
     "name": "stdout",
     "output_type": "stream",
     "text": [
      "Vocabulary: ['codeing' 'fun' 'in' 'is' 'love' 'programming' 'python']\n",
      "Vectorized Data (Array):\n",
      " [[0 0 1 0 1 1 1]\n",
      " [0 1 0 1 0 1 1]\n",
      " [1 0 0 0 1 0 0]]\n"
     ]
    }
   ],
   "source": [
    "print(\"Vocabulary:\", vectorizer.get_feature_names_out())\n",
    "print(\"Vectorized Data (Array):\\n\",vectorized_data.toarray())"
   ]
  },
  {
   "cell_type": "code",
   "execution_count": 45,
   "id": "b20e773f-717b-4f69-99af-2be205fc5e84",
   "metadata": {},
   "outputs": [],
   "source": [
    "#---------------------------------EXAMPLE------------------------------------------------------\n"
   ]
  },
  {
   "cell_type": "code",
   "execution_count": 58,
   "id": "4bcb53f1-6ed3-4c0d-b996-959d2bcc5f7d",
   "metadata": {},
   "outputs": [],
   "source": [
    "from sklearn.feature_extraction.text import CountVectorizer"
   ]
  },
  {
   "cell_type": "code",
   "execution_count": 60,
   "id": "79e84bcb-70e5-4b2d-9eac-0d9cdc2bcc1a",
   "metadata": {},
   "outputs": [
    {
     "data": {
      "text/plain": [
       "'get support from a personal tutor in one-to-one lessons or practise by yourself at your own pace with a self-study course.'"
      ]
     },
     "execution_count": 60,
     "metadata": {},
     "output_type": "execute_result"
    }
   ],
   "source": [
    "documents = \"Practise speaking socially with your classmates in live group classes\",\n",
    "\"get support from a personal tutor in one-to-one lessons or practise by yourself at your own pace with a self-study course.\""
   ]
  },
  {
   "cell_type": "code",
   "execution_count": 62,
   "id": "16a299d5-c7ab-45dc-8a38-68a416a9a4a8",
   "metadata": {},
   "outputs": [],
   "source": [
    "vectorizer= CountVectorizer()"
   ]
  },
  {
   "cell_type": "code",
   "execution_count": 64,
   "id": "984ea886-54e3-4a8d-98a5-76113539d81b",
   "metadata": {},
   "outputs": [],
   "source": [
    "vectorized_data= vectorizer.fit_transform(documents)"
   ]
  },
  {
   "cell_type": "code",
   "execution_count": 56,
   "id": "6e0c5f00-6417-4036-970a-f0dbbc0aaf37",
   "metadata": {},
   "outputs": [
    {
     "name": "stdout",
     "output_type": "stream",
     "text": [
      "Vocabulary: ['codeing' 'fun' 'in' 'is' 'love' 'programming' 'python']\n",
      "vectorized Data (Array):\n",
      " [[0 0 1 0 1 1 1]\n",
      " [0 1 0 1 0 1 1]\n",
      " [1 0 0 0 1 0 0]]\n"
     ]
    }
   ],
   "source": [
    "print(\"Vocabulary:\", vectorizer.get_feature_names_out())\n",
    "print(\"vectorized Data (Array):\\n\", vectorized_data.toarray())"
   ]
  },
  {
   "cell_type": "code",
   "execution_count": 1,
   "id": "940b2bae-66ce-4ad3-9409-b6ed5621b790",
   "metadata": {},
   "outputs": [
    {
     "name": "stdout",
     "output_type": "stream",
     "text": [
      "   analytics      and      data    future   growing        is       of  \\\n",
      "0   0.000000  0.00000  0.336315  0.433067  0.000000  0.433067  0.00000   \n",
      "1   0.406192  0.00000  0.315444  0.000000  0.534093  0.406192  0.00000   \n",
      "2   0.376331  0.49483  0.292254  0.376331  0.000000  0.000000  0.49483   \n",
      "\n",
      "    rapidly   science       the  \n",
      "0  0.000000  0.433067  0.569431  \n",
      "1  0.534093  0.000000  0.000000  \n",
      "2  0.000000  0.376331  0.000000  \n"
     ]
    }
   ],
   "source": [
    "from sklearn.feature_extraction.text import TfidfVectorizer\n",
    "\n",
    "# Sample documents\n",
    "documents = [\n",
    "    \"Data science is the future.\",\n",
    "    \"Data analytics is growing rapidly.\",\n",
    "    \"Future of data science and analytics.\"\n",
    "]\n",
    "\n",
    "# Initialize the TF-IDF Vectorizer\n",
    "vectorizer = TfidfVectorizer()\n",
    "\n",
    "# Fit and transform the documents to get the TF-IDF matrix\n",
    "tfidf_matrix = vectorizer.fit_transform(documents)\n",
    "\n",
    "# Convert the TF-IDF matrix to a dense array and get feature names\n",
    "tfidf_dense = tfidf_matrix.todense()\n",
    "terms = vectorizer.get_feature_names_out()\n",
    "\n",
    "# Display the TF-IDF scores\n",
    "import pandas as pd\n",
    "df = pd.DataFrame(tfidf_dense, columns=terms)\n",
    "print(df)\n"
   ]
  },
  {
   "cell_type": "code",
   "execution_count": null,
   "id": "f54893d1-a6dc-4ce2-8d20-555875e4bb57",
   "metadata": {},
   "outputs": [],
   "source": []
  }
 ],
 "metadata": {
  "kernelspec": {
   "display_name": "Python 3 (ipykernel)",
   "language": "python",
   "name": "python3"
  },
  "language_info": {
   "codemirror_mode": {
    "name": "ipython",
    "version": 3
   },
   "file_extension": ".py",
   "mimetype": "text/x-python",
   "name": "python",
   "nbconvert_exporter": "python",
   "pygments_lexer": "ipython3",
   "version": "3.12.7"
  }
 },
 "nbformat": 4,
 "nbformat_minor": 5
}
