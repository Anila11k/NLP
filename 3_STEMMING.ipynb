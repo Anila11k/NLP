{
 "cells": [
  {
   "cell_type": "code",
   "execution_count": 7,
   "id": "702cad73-672a-4e5b-a073-056d09e9858a",
   "metadata": {},
   "outputs": [],
   "source": [
    "import nltk\n",
    "from nltk.stem import PorterStemmer,SnowballStemmer,LancasterStemmer"
   ]
  },
  {
   "cell_type": "code",
   "execution_count": 11,
   "id": "dfb761fd-a351-414c-8e21-578ed89543a9",
   "metadata": {},
   "outputs": [
    {
     "name": "stderr",
     "output_type": "stream",
     "text": [
      "[nltk_data] Downloading package punkt to\n",
      "[nltk_data]     C:\\Users\\Acer\\AppData\\Roaming\\nltk_data...\n",
      "[nltk_data]   Package punkt is already up-to-date!\n"
     ]
    },
    {
     "data": {
      "text/plain": [
       "True"
      ]
     },
     "execution_count": 11,
     "metadata": {},
     "output_type": "execute_result"
    }
   ],
   "source": [
    "nltk.download('punkt')"
   ]
  },
  {
   "cell_type": "code",
   "execution_count": 21,
   "id": "0b1c374b-0c19-42d1-86fe-8d5791a04784",
   "metadata": {},
   "outputs": [],
   "source": [
    "porter_stemmer = PorterStemmer()\n",
    "snowballstemmer=SnowballStemmer('english')\n",
    "lancasterstemmer=LancasterStemmer()"
   ]
  },
  {
   "cell_type": "code",
   "execution_count": 27,
   "id": "4e5aab4e-7d51-44f6-8dfd-f94cfa5c3226",
   "metadata": {},
   "outputs": [],
   "source": [
    "words=[\"running\",\"happiness\",\"fishing\",\"studies\",\"better\",\"cats\"]"
   ]
  },
  {
   "cell_type": "code",
   "execution_count": 31,
   "id": "0949897b-6bc3-4a35-8558-d7bb1db24796",
   "metadata": {},
   "outputs": [
    {
     "name": "stdout",
     "output_type": "stream",
     "text": [
      "Porter Stemmer:\n",
      "running->run\n",
      "happiness->happi\n",
      "fishing->fish\n",
      "studies->studi\n",
      "better->better\n",
      "cats->cat\n"
     ]
    }
   ],
   "source": [
    "print(\"Porter Stemmer:\")\n",
    "for word in words:\n",
    "    print(f\"{word}->{porter_stemmer.stem(word)}\")\n",
    "    "
   ]
  },
  {
   "cell_type": "code",
   "execution_count": 45,
   "id": "285805c0-b837-42cb-80e4-3a76926cedb9",
   "metadata": {},
   "outputs": [
    {
     "name": "stdout",
     "output_type": "stream",
     "text": [
      "\n",
      "Snowball Stemmer:\n",
      "running -> run\n",
      "happiness -> happi\n",
      "fishing -> fish\n",
      "studies -> studi\n",
      "better -> better\n",
      "cats -> cat\n"
     ]
    }
   ],
   "source": [
    "print(\"\\nSnowball Stemmer:\")\n",
    "for word in words:\n",
    "    print(f\"{word} -> {snowballstemmer.stem(word)}\")"
   ]
  },
  {
   "cell_type": "code",
   "execution_count": 53,
   "id": "520a4a80-a453-4d78-ba9f-796f87fc4af2",
   "metadata": {},
   "outputs": [
    {
     "name": "stdout",
     "output_type": "stream",
     "text": [
      "Landcaster:\n",
      "running -> run\n",
      "happiness -> happy\n",
      "fishing -> fish\n",
      "studies -> study\n",
      "better -> bet\n",
      "cats -> cat\n"
     ]
    }
   ],
   "source": [
    "print(\"Landcaster:\")\n",
    "for word in words:\n",
    "    print(f\"{word} -> {lancasterstemmer.stem(word)}\")"
   ]
  }
 ],
 "metadata": {
  "kernelspec": {
   "display_name": "Python 3 (ipykernel)",
   "language": "python",
   "name": "python3"
  },
  "language_info": {
   "codemirror_mode": {
    "name": "ipython",
    "version": 3
   },
   "file_extension": ".py",
   "mimetype": "text/x-python",
   "name": "python",
   "nbconvert_exporter": "python",
   "pygments_lexer": "ipython3",
   "version": "3.12.7"
  }
 },
 "nbformat": 4,
 "nbformat_minor": 5
}
