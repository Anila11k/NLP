{
 "cells": [
  {
   "cell_type": "code",
   "execution_count": 1,
   "id": "e46c0643-d355-44e3-8299-1a844afd859f",
   "metadata": {},
   "outputs": [],
   "source": [
    "import numpy as np\n",
    "from nltk.stem import WordNetLemmatizer\n",
    "from sklearn.feature_extraction.text import CountVectorizer\n",
    "from sklearn.metrics.pairwise import cosine_similarity\n",
    "import nltk"
   ]
  },
  {
   "cell_type": "code",
   "execution_count": 2,
   "id": "e9147b4c-f525-4585-962b-26a4a7d3cd55",
   "metadata": {},
   "outputs": [],
   "source": [
    "lemmatizer = WordNetLemmatizer()"
   ]
  },
  {
   "cell_type": "code",
   "execution_count": 3,
   "id": "e2977d3b-11a7-4fe7-98dd-66720d1d0e3a",
   "metadata": {},
   "outputs": [],
   "source": [
    "corpus = [\n",
    "    \"Good Morning\",\n",
    "    \"Good Afternoon\",\n",
    "    \"Good Evening\",\n",
    "    \"Hello\",\n",
    "    \"What courses are available for Computer Science?\",\n",
    "    \"Hi, I'm interested in learning more about the Bachelor of Science in Computer Science program.\",\n",
    "    \"How do I register for courses?\",\n",
    "    \"What events are happening this week?\",\n",
    "    \"How can I find out about events?\",\n",
    "    \"Where can I get tutoring?\",\n",
    "    \"Is there career counseling?\",\n",
    "    \"When does the semester start?\",\n",
    "    \"Are there scholarships available?\",\n",
    "    \"How many courses are there?\",\n",
    "    \"And what's the fee structure for the program?\",\n",
    "    \"Okay, thanks.  I think I have all the information I need for now.\",\n",
    "    \" Thank you!\"\n",
    "    \n",
    "    \n",
    "]\n",
    "\n",
    "responses =[\n",
    "    \"Good Morning\",\n",
    "    \"Good Afternoon\",\n",
    "    \"Good Evening\",\n",
    "    \"Hi\",\n",
    "    \"We offer courses such as Data Structures, Algorithms, Artificial Intelligence, Software Engineering, and more. Would you like more details on any specific course?\",\n",
    "    \"Hi there! Welcome to bangalore Admissions. How can I help you today?\",\n",
    "    \"You can register for courses through the Student Portal during the registration period. Make sure to check the deadlines.\",\n",
    "    \"This week we have:Career Fair on Tuesday from 10 AM to 2 PM, Debate Club on Wednesday at 4 PM in Room 301.International Food Festival on Friday at 5 PM at the campus lawn.\",\n",
    "    \"Check the campus website or app.\",\n",
    "    \"Tutoring is in the Academic Support Center on the 3rd floor of the library.\",\n",
    "    \"Yes, at the Career Services Center.\",\n",
    "    \" The semester starts on February 16th.\",\n",
    "    \"Yes, the application deadline is March 1st.\",\n",
    "    \"We offer over 200 courses across all our departments, including undergraduate, graduate, and professional programs.  Are you interested in a specific area of study?  Knowing that will help me narrow down the number and give you more relevant information.\",\n",
    "    \"The total program fee for the BSc Computer Science program is 250000.  This includes tuition fees, lab fees, and library fees.  A detailed breakdown of the fee structure can be found on our website under the Fees and Funding section.  I can also send you that link if you'd like.\",\n",
    "    \"You're welcome!  If you have any further questions, please don't hesitate to ask.  You can also contact our admissions office directly at [Phone Number] or [Email Address].  We wish you the best with your application!\",\n",
    "    \"Have a great day!\"\n",
    "    \n",
    "]\n",
    "    "
   ]
  },
  {
   "cell_type": "code",
   "execution_count": 4,
   "id": "2135cea6-863a-4fb0-a6dd-171614d2069f",
   "metadata": {},
   "outputs": [],
   "source": [
    "def preprocess_text(text):\n",
    "    return [lemmatizer.lemmatize(word.lower()) for word in nltk.word_tokenize(text)]\n"
   ]
  },
  {
   "cell_type": "code",
   "execution_count": 5,
   "id": "e3e906e4-abc0-4da5-b9bc-430dbc1901e6",
   "metadata": {},
   "outputs": [],
   "source": [
    "vectorizer = CountVectorizer(analyzer=preprocess_text)\n",
    "X = vectorizer.fit_transform(corpus)"
   ]
  },
  {
   "cell_type": "code",
   "execution_count": 6,
   "id": "34e42482-b9b5-4155-933c-b55531f32a30",
   "metadata": {},
   "outputs": [],
   "source": [
    "def chatbot_response(user_input):\n",
    "    user_input = preprocess_text(user_input)\n",
    "    user_vector = vectorizer.transform(user_input)  \n",
    "    similarity_scores = cosine_similarity(user_vector, X)\n",
    "\n",
    "    # Get the index of the best match\n",
    "    index = np.argmax(similarity_scores)\n",
    "\n",
    "    # Return the corresponding response\n",
    "    return responses[index]"
   ]
  },
  {
   "cell_type": "code",
   "execution_count": null,
   "id": "41cb617a-a569-4204-8948-b2a01f05ef94",
   "metadata": {},
   "outputs": [
    {
     "name": "stdout",
     "output_type": "stream",
     "text": [
      "Chatbot:Hi, how can i assist you today?\n"
     ]
    },
    {
     "name": "stdin",
     "output_type": "stream",
     "text": [
      "You:  scholarships available\n"
     ]
    },
    {
     "name": "stdout",
     "output_type": "stream",
     "text": [
      "Chatbot:Yes, the application deadline is March 1st.\n"
     ]
    },
    {
     "name": "stdin",
     "output_type": "stream",
     "text": [
      "You:  Thank you\n"
     ]
    },
    {
     "name": "stdout",
     "output_type": "stream",
     "text": [
      "Chatbot:Have a great day!\n"
     ]
    },
    {
     "name": "stdin",
     "output_type": "stream",
     "text": [
      "You:  thankyou\n"
     ]
    },
    {
     "name": "stdout",
     "output_type": "stream",
     "text": [
      "Chatbot:Good Morning\n"
     ]
    },
    {
     "name": "stdin",
     "output_type": "stream",
     "text": [
      "You:  course\n"
     ]
    },
    {
     "name": "stdout",
     "output_type": "stream",
     "text": [
      "Chatbot:We offer over 200 courses across all our departments, including undergraduate, graduate, and professional programs.  Are you interested in a specific area of study?  Knowing that will help me narrow down the number and give you more relevant information.\n"
     ]
    }
   ],
   "source": [
    "print(\"Chatbot:Hi, how can i assist you today?\")\n",
    "while True:\n",
    "    user_input= input(\"You: \")\n",
    "    if user_input.lower() =='bye':\n",
    "        print(\"Chatbot:Goodbye!\")\n",
    "        break\n",
    "    response = chatbot_response(user_input)\n",
    "    print(f\"Chatbot:{response}\")\n",
    "        "
   ]
  },
  {
   "cell_type": "code",
   "execution_count": null,
   "id": "eb9c2e60-1730-4b62-8fac-695ff3cffde3",
   "metadata": {},
   "outputs": [],
   "source": []
  }
 ],
 "metadata": {
  "kernelspec": {
   "display_name": "Python 3 (ipykernel)",
   "language": "python",
   "name": "python3"
  },
  "language_info": {
   "codemirror_mode": {
    "name": "ipython",
    "version": 3
   },
   "file_extension": ".py",
   "mimetype": "text/x-python",
   "name": "python",
   "nbconvert_exporter": "python",
   "pygments_lexer": "ipython3",
   "version": "3.12.7"
  }
 },
 "nbformat": 4,
 "nbformat_minor": 5
}
