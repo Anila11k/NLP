{
 "cells": [
  {
   "cell_type": "code",
   "execution_count": 14,
   "id": "cb898c68-5ffc-4b9a-aae1-add0a37a660e",
   "metadata": {},
   "outputs": [],
   "source": [
    "import nltk\n",
    "from nltk.corpus import stopwords\n",
    "import re"
   ]
  },
  {
   "cell_type": "code",
   "execution_count": 16,
   "id": "2fe33f24-9c56-4af7-b3b1-c2cc60089505",
   "metadata": {},
   "outputs": [
    {
     "name": "stderr",
     "output_type": "stream",
     "text": [
      "[nltk_data] Downloading package stopwords to\n",
      "[nltk_data]     C:\\Users\\Acer\\AppData\\Roaming\\nltk_data...\n",
      "[nltk_data]   Package stopwords is already up-to-date!\n"
     ]
    },
    {
     "data": {
      "text/plain": [
       "True"
      ]
     },
     "execution_count": 16,
     "metadata": {},
     "output_type": "execute_result"
    }
   ],
   "source": [
    "nltk.download('stopwords')"
   ]
  },
  {
   "cell_type": "code",
   "execution_count": 18,
   "id": "ff8ac52c-dfe2-4b5d-9c6f-92a7223ece67",
   "metadata": {},
   "outputs": [],
   "source": [
    "text=\"This is an example sentence demonstrating stop words removal.\""
   ]
  },
  {
   "cell_type": "code",
   "execution_count": 63,
   "id": "86cbc0e5-2903-4435-a61f-e28dfdd778aa",
   "metadata": {},
   "outputs": [
    {
     "name": "stdout",
     "output_type": "stream",
     "text": [
      "shepherd boy village used take herd sheep across fields near forest felt job dull wanted fun\n"
     ]
    }
   ],
   "source": [
    "def remove_stop_words(text):\n",
    "    stop_words =set(stopwords.words('english'))\n",
    "    text= re.sub(r'[^\\w\\s]','',text)\n",
    "    words= text.lower().split()\n",
    "    filtered_words = [word for word in words if word not in stop_words]\n",
    "    return ' '.join(filtered_words)\n",
    "\n",
    "cleaned_text = remove_stop_words(text)\n",
    "print(cleaned_text)\n"
   ]
  },
  {
   "cell_type": "code",
   "execution_count": 59,
   "id": "aeaa4b8b-8c0e-4ec2-93cb-8ada3c27e8a4",
   "metadata": {},
   "outputs": [
    {
     "data": {
      "text/plain": [
       "'shepherd boy village used take herd sheep across fields near forest felt job dull wanted fun'"
      ]
     },
     "execution_count": 59,
     "metadata": {},
     "output_type": "execute_result"
    }
   ],
   "source": [
    "cleaned_text\n"
   ]
  },
  {
   "cell_type": "code",
   "execution_count": 40,
   "id": "a08c6137-cbcb-4c05-ad0f-ce864d368264",
   "metadata": {},
   "outputs": [],
   "source": [
    "# -------------------------------------------------------------------------------------------------"
   ]
  },
  {
   "cell_type": "code",
   "execution_count": 42,
   "id": "24bfed66-bab2-45b6-adbd-0c5c6235fa8b",
   "metadata": {},
   "outputs": [
    {
     "name": "stderr",
     "output_type": "stream",
     "text": [
      "[nltk_data] Downloading package stopwords to\n",
      "[nltk_data]     C:\\Users\\Acer\\AppData\\Roaming\\nltk_data...\n",
      "[nltk_data]   Package stopwords is already up-to-date!\n"
     ]
    },
    {
     "data": {
      "text/plain": [
       "True"
      ]
     },
     "execution_count": 42,
     "metadata": {},
     "output_type": "execute_result"
    }
   ],
   "source": [
    "import nltk\n",
    "from nltk.corpus import stopwords\n",
    "nltk.download(\"stopwords\")"
   ]
  },
  {
   "cell_type": "code",
   "execution_count": 44,
   "id": "903c73e1-b01a-41c0-aa76-0da621ca3397",
   "metadata": {},
   "outputs": [],
   "source": [
    "#sample text\n",
    "text=\"This is example sentance with stop words.\""
   ]
  },
  {
   "cell_type": "code",
   "execution_count": 48,
   "id": "86ac932a-ec66-4afc-be68-06445e35557d",
   "metadata": {},
   "outputs": [],
   "source": [
    "#get stop words\n",
    "stop_words = set(stopwords.words(\"english\"))"
   ]
  },
  {
   "cell_type": "code",
   "execution_count": 50,
   "id": "8ec48198-9681-45b0-b184-e7477ed9c758",
   "metadata": {},
   "outputs": [],
   "source": [
    "#Tokenize the text and remove stop words \n",
    "words=text.split()"
   ]
  },
  {
   "cell_type": "code",
   "execution_count": 52,
   "id": "513ba5f0-0cf8-4385-bc01-54e262f27e33",
   "metadata": {},
   "outputs": [
    {
     "name": "stdout",
     "output_type": "stream",
     "text": [
      "['example', 'sentance', 'stop', 'words.']\n"
     ]
    }
   ],
   "source": [
    "filtered_words=[word for word in words if word.lower()not in stop_words]\n",
    "print(filtered_words)"
   ]
  },
  {
   "cell_type": "code",
   "execution_count": 54,
   "id": "6c9b1511-0149-499c-a553-f49bd74b392f",
   "metadata": {},
   "outputs": [],
   "source": [
    "# USING SPACY\n",
    "# _----------------------------------------------"
   ]
  },
  {
   "cell_type": "code",
   "execution_count": 56,
   "id": "da4c92a5-508f-4799-ac6c-448bd5cbc3ed",
   "metadata": {},
   "outputs": [],
   "source": [
    "import spacy"
   ]
  },
  {
   "cell_type": "code",
   "execution_count": 58,
   "id": "d16e64b0-b8bd-463c-b087-e77ef2f9dfe1",
   "metadata": {},
   "outputs": [],
   "source": [
    "nlp= spacy.load(\"en_core_web_sm\")\n"
   ]
  },
  {
   "cell_type": "code",
   "execution_count": 60,
   "id": "e2b63d33-9f68-4e9e-91d6-c1fd1d1a5a76",
   "metadata": {},
   "outputs": [],
   "source": [
    "text =\"This is an example sentence with stop works\""
   ]
  },
  {
   "cell_type": "code",
   "execution_count": 62,
   "id": "f1978a72-da7f-4847-971d-32345db97acb",
   "metadata": {},
   "outputs": [],
   "source": [
    "doc=nlp(text)"
   ]
  },
  {
   "cell_type": "code",
   "execution_count": 70,
   "id": "866ab701-73d5-4ef4-877e-7466650a1146",
   "metadata": {},
   "outputs": [
    {
     "name": "stdout",
     "output_type": "stream",
     "text": [
      "['example', 'sentence', 'stop', 'works']\n"
     ]
    }
   ],
   "source": [
    "filtered_words=[token.text for token in doc if not token.is_stop]\n",
    "print(filtered_words)"
   ]
  },
  {
   "cell_type": "code",
   "execution_count": null,
   "id": "1a440284-9041-49e8-91ee-c1f606e166a8",
   "metadata": {},
   "outputs": [],
   "source": [
    "# ---------------------------------------------------------------------------------------------------------------------"
   ]
  },
  {
   "cell_type": "code",
   "execution_count": 47,
   "id": "8c1eb5a7-dd91-4bf1-b76a-819f71007fd5",
   "metadata": {},
   "outputs": [],
   "source": [
    "import nltk\n",
    "from nltk.corpus import stopwords\n",
    "import re"
   ]
  },
  {
   "cell_type": "code",
   "execution_count": 49,
   "id": "f989dbe9-d528-4bf1-9037-0cefc325b670",
   "metadata": {},
   "outputs": [
    {
     "name": "stderr",
     "output_type": "stream",
     "text": [
      "[nltk_data] Downloading package stopwords to\n",
      "[nltk_data]     C:\\Users\\Acer\\AppData\\Roaming\\nltk_data...\n",
      "[nltk_data]   Package stopwords is already up-to-date!\n"
     ]
    },
    {
     "data": {
      "text/plain": [
       "True"
      ]
     },
     "execution_count": 49,
     "metadata": {},
     "output_type": "execute_result"
    }
   ],
   "source": [
    "nltk.download('stopwords')"
   ]
  },
  {
   "cell_type": "code",
   "execution_count": 51,
   "id": "c868390b-6d4f-4f5b-ac26-f77ea41dfd5d",
   "metadata": {},
   "outputs": [],
   "source": [
    "text =\"A shepherd boy in a village used to take his herd of sheep across the fields near the forest. He felt this job was very dull and wanted to have some fun.\""
   ]
  },
  {
   "cell_type": "code",
   "execution_count": 53,
   "id": "40f68d5b-3a31-4f21-81c8-464b3c1accb8",
   "metadata": {},
   "outputs": [
    {
     "name": "stdout",
     "output_type": "stream",
     "text": [
      "shepherd boy village used take herd sheep across fields near forest felt job dull wanted fun\n"
     ]
    }
   ],
   "source": [
    "def remove_stop_words(text):\n",
    "    stop_words =set(stopwords.words('english'))\n",
    "    text= re.sub(r'[^\\w\\s]', '',text)\n",
    "    words= text.lower().split()\n",
    "    filtered_words = [word for word in words if word not in stop_words]\n",
    "    return' '.join(filtered_words)\n",
    "\n",
    "cleaned_text = remove_stop_words(text)\n",
    "print(cleaned_text)"
   ]
  },
  {
   "cell_type": "code",
   "execution_count": 65,
   "id": "dc67a4bf-9d6f-4969-a8e8-b722a53cf559",
   "metadata": {},
   "outputs": [],
   "source": [
    "#-----------------------------------EXAMPLE----------------------------------------------------------"
   ]
  },
  {
   "cell_type": "code",
   "execution_count": null,
   "id": "1613da2a-581a-4b6d-807a-c2f65f84b862",
   "metadata": {},
   "outputs": [],
   "source": []
  }
 ],
 "metadata": {
  "kernelspec": {
   "display_name": "Python 3 (ipykernel)",
   "language": "python",
   "name": "python3"
  },
  "language_info": {
   "codemirror_mode": {
    "name": "ipython",
    "version": 3
   },
   "file_extension": ".py",
   "mimetype": "text/x-python",
   "name": "python",
   "nbconvert_exporter": "python",
   "pygments_lexer": "ipython3",
   "version": "3.12.7"
  }
 },
 "nbformat": 4,
 "nbformat_minor": 5
}
